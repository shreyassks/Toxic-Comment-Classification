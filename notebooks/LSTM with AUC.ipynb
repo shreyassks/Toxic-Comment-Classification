{
 "cells": [
  {
   "cell_type": "code",
   "execution_count": 1,
   "id": "8b707071",
   "metadata": {},
   "outputs": [],
   "source": [
    "import pandas as pd\n",
    "import matplotlib.pyplot as plt\n",
    "import seaborn as sns\n",
    "from sklearn.model_selection import train_test_split\n",
    "import re\n",
    "from nltk.stem import WordNetLemmatizer\n",
    "from keras.preprocessing.text import Tokenizer\n",
    "from keras.preprocessing.sequence import pad_sequences\n",
    "import numpy as np\n",
    "from keras import Input, Model\n",
    "from keras.layers import Embedding, Dense, Dropout, LSTM, GlobalMaxPool1D, Bidirectional"
   ]
  },
  {
   "cell_type": "code",
   "execution_count": 2,
   "id": "a2d2b2e1",
   "metadata": {},
   "outputs": [
    {
     "name": "stderr",
     "output_type": "stream",
     "text": [
      "[nltk_data] Downloading package wordnet to\n",
      "[nltk_data]     /Users/shreyassk/nltk_data...\n",
      "[nltk_data]   Package wordnet is already up-to-date!\n"
     ]
    },
    {
     "data": {
      "text/plain": [
       "True"
      ]
     },
     "execution_count": 2,
     "metadata": {},
     "output_type": "execute_result"
    }
   ],
   "source": [
    "import nltk\n",
    "nltk.download('wordnet')"
   ]
  },
  {
   "cell_type": "code",
   "execution_count": 3,
   "id": "5005bfa6",
   "metadata": {},
   "outputs": [],
   "source": [
    "df = pd.read_csv(\"updated_train.csv\")\n",
    "test = pd.read_csv(\"./toxicity-detection/test_set.csv\")"
   ]
  },
  {
   "cell_type": "code",
   "execution_count": 4,
   "id": "be6a5dfa",
   "metadata": {},
   "outputs": [],
   "source": [
    "def sum_of_columns(dataframe, columns):\n",
    "    temp = 0\n",
    "    for col in columns:\n",
    "        temp += dataframe[col]\n",
    "    return temp"
   ]
  },
  {
   "cell_type": "code",
   "execution_count": 5,
   "id": "376a4adb",
   "metadata": {},
   "outputs": [],
   "source": [
    "DETECTION_CLASSES = [\n",
    "    'toxic',\n",
    "    'severe_toxic',\n",
    "    'obscene',\n",
    "    'threat',\n",
    "    'insult',\n",
    "    'identity_hate',\n",
    "    'neutral']"
   ]
  },
  {
   "cell_type": "code",
   "execution_count": 6,
   "id": "664e4aad",
   "metadata": {},
   "outputs": [
    {
     "name": "stderr",
     "output_type": "stream",
     "text": [
      "[nltk_data] Downloading package wordnet to\n",
      "[nltk_data]     /Users/shreyassk/nltk_data...\n",
      "[nltk_data]   Package wordnet is already up-to-date!\n"
     ]
    },
    {
     "name": "stdout",
     "output_type": "stream",
     "text": [
      "Data Cleaned\n"
     ]
    }
   ],
   "source": [
    "from data_cleaning import clean_text_column\n",
    "\n",
    "cols = DETECTION_CLASSES.copy()\n",
    "cols.remove('neutral')\n",
    "df['neutral'] = np.where(sum_of_columns(df, cols) > 0, 0, 1)\n",
    "df['text'] = clean_text_column(df['text'])\n",
    "\n",
    "test['neutral'] = np.where(sum_of_columns(test, cols) > 0, 0, 1)\n",
    "test['comment_text'] = clean_text_column(test['comment_text'])\n",
    "print(\"Data Cleaned\")"
   ]
  },
  {
   "cell_type": "code",
   "execution_count": 7,
   "id": "d1453e55",
   "metadata": {},
   "outputs": [],
   "source": [
    "x_train = df['text'].values\n",
    "y_train = df[DETECTION_CLASSES].values"
   ]
  },
  {
   "cell_type": "code",
   "execution_count": 8,
   "id": "13c0c251",
   "metadata": {},
   "outputs": [],
   "source": [
    "x_test = test['comment_text'].values\n",
    "y_test = test[DETECTION_CLASSES].values"
   ]
  },
  {
   "cell_type": "code",
   "execution_count": 9,
   "id": "7d90432a",
   "metadata": {},
   "outputs": [],
   "source": [
    "max_features=100000\n",
    "tokenizer = Tokenizer(num_words=max_features)\n",
    "tokenizer.fit_on_texts(list(x_train))\n",
    "list_tokenized_train = tokenizer.texts_to_sequences(x_train)\n",
    "list_tokenized_test = tokenizer.texts_to_sequences(x_test)"
   ]
  },
  {
   "cell_type": "code",
   "execution_count": 10,
   "id": "a4595c93",
   "metadata": {},
   "outputs": [],
   "source": [
    "import pickle\n",
    "\n",
    "with open(\"tokenizer.pkl\", 'wb') as handle:\n",
    "    pickle.dump(tokenizer, handle, protocol=pickle.HIGHEST_PROTOCOL)"
   ]
  },
  {
   "cell_type": "code",
   "execution_count": 11,
   "id": "d20f9979",
   "metadata": {},
   "outputs": [],
   "source": [
    "maxpadlen = 200\n",
    "X_t=pad_sequences(list_tokenized_train, maxlen=maxpadlen, padding = 'post')\n",
    "X_te=pad_sequences(list_tokenized_test, maxlen=maxpadlen, padding = 'post')"
   ]
  },
  {
   "cell_type": "code",
   "execution_count": 13,
   "id": "c65f2624",
   "metadata": {},
   "outputs": [
    {
     "name": "stdout",
     "output_type": "stream",
     "text": [
      "Completed!\n"
     ]
    }
   ],
   "source": [
    "embedding_dim_fasttext = 300\n",
    "embeddings_index_fasttext = {}\n",
    "f = open('./toxicity-detection/wiki-news-300d-1M.vec', encoding='utf8')\n",
    "for line in f:\n",
    "    values = line.split()\n",
    "    word = values[0]\n",
    "    embeddings_index_fasttext[word] = np.asarray(values[1:], dtype='float32')\n",
    "f.close()\n",
    "\n",
    "embedding_matrix_fasttext = np.random.random((len(tokenizer.word_index) + 1, embedding_dim_fasttext))\n",
    "for word, i in tokenizer.word_index.items():\n",
    "    embedding_vector = embeddings_index_fasttext.get(word)\n",
    "    if embedding_vector is not None:\n",
    "        embedding_matrix_fasttext[i] = embedding_vector\n",
    "print(\"Completed!\")"
   ]
  },
  {
   "cell_type": "code",
   "execution_count": null,
   "id": "ed243df7",
   "metadata": {},
   "outputs": [],
   "source": [
    "# class_weight = {0: 1.4905, 1: 14.2920, 2: 2.6980, 3: 47.69, 4: 2.8939, 5: 16.2244, 6: 0.1590}\n",
    "# class_weight = {0: 0.000458, 1: 0.004389, 2: 0.000829, 3: 0.014644, 4: 0.000889, 5: 0.004982, 6: 0.000049}"
   ]
  },
  {
   "cell_type": "code",
   "execution_count": 14,
   "id": "8606d67e",
   "metadata": {},
   "outputs": [
    {
     "data": {
      "application/javascript": [
       "\n",
       "        if (window._pyforest_update_imports_cell) { window._pyforest_update_imports_cell('import tensorflow as tf'); }\n",
       "    "
      ],
      "text/plain": [
       "<IPython.core.display.Javascript object>"
      ]
     },
     "metadata": {},
     "output_type": "display_data"
    },
    {
     "name": "stdout",
     "output_type": "stream",
     "text": [
      "Epoch 1/2\n",
      "4235/4235 [==============================] - 212s 50ms/step - loss: 0.1130 - auc: 0.9842 - val_loss: 0.0913 - val_auc: 0.9903\n",
      "Epoch 2/2\n",
      "4235/4235 [==============================] - 206s 49ms/step - loss: 0.0895 - auc: 0.9901 - val_loss: 0.0833 - val_auc: 0.9914\n"
     ]
    }
   ],
   "source": [
    "inp=Input(shape=(maxpadlen, ),dtype='int32')\n",
    "embedding_layer = Embedding(len(tokenizer.word_index) + 1,\n",
    "                           embedding_dim_fasttext,\n",
    "                           weights = [embedding_matrix_fasttext],\n",
    "                           input_length = maxpadlen,\n",
    "                           trainable=False,\n",
    "                           name = 'embeddings')\n",
    "embedded_sequences = embedding_layer(inp)\n",
    "x = LSTM(40, return_sequences=True,name='lstm_layer')(embedded_sequences)\n",
    "x = GlobalMaxPool1D()(x)\n",
    "x = Dropout(0.1)(x)\n",
    "x = Dense(30, activation=\"relu\", kernel_initializer='he_uniform')(x)\n",
    "x = Dropout(0.1)(x)\n",
    "preds = Dense(7, activation=\"sigmoid\", kernel_initializer='glorot_uniform')(x)\n",
    "\n",
    "#Compile the Model.\n",
    "model_1 = Model(inputs=inp, outputs=preds)\n",
    "model_1.compile(loss='binary_crossentropy',\n",
    "                  optimizer='adam',\n",
    "                  metrics=[tf.keras.metrics.AUC()])\n",
    "\n",
    "#Fit the Model on Training Data.\n",
    "model_info_1=model_1.fit(X_t, y_train, epochs=2, \n",
    "                         batch_size=32,\n",
    "                         validation_split=0.2)"
   ]
  },
  {
   "cell_type": "code",
   "execution_count": 15,
   "id": "9341b43a",
   "metadata": {},
   "outputs": [],
   "source": [
    "model_1.save(\"lstm_updated.h5\")"
   ]
  },
  {
   "cell_type": "code",
   "execution_count": 16,
   "id": "aae794bd",
   "metadata": {},
   "outputs": [],
   "source": [
    "from keras.models import load_model\n",
    "\n",
    "lstm = load_model(\"lstm_updated.h5\")\n",
    "\n",
    "with open(\"tokenizer.pkl\", 'rb') as handle:\n",
    "    tokenizer = pickle.load(handle)"
   ]
  },
  {
   "cell_type": "code",
   "execution_count": 17,
   "id": "41ab82b4",
   "metadata": {},
   "outputs": [],
   "source": [
    "def predict(comment):\n",
    "    \"\"\"\n",
    "    Makes a prediction call to the NLP Model to get the level of Toxicity\n",
    "    :param comment: Review Comment\n",
    "    :return: JSON Response with Toxicity levels predicted by NLP model\n",
    "    \"\"\"\n",
    "\n",
    "    input_comment = clean_text(comment)\n",
    "    input_comment = input_comment.split(\" \")\n",
    "\n",
    "    sequences = tokenizer.texts_to_sequences(input_comment)\n",
    "    sequences = [[item for sublist in sequences for item in sublist]]\n",
    "\n",
    "    padded_data = pad_sequences(sequences, maxlen=200)\n",
    "    result = lstm.predict(padded_data, len(padded_data), verbose=1)\n",
    "\n",
    "    return {\n",
    "            \"Toxic\": str(result[0][0]),\n",
    "            \"Very Toxic\": str(result[0][1]),\n",
    "            \"Obscene\": str(result[0][2]),\n",
    "            \"Threat\": str(result[0][3]),\n",
    "            \"Insult\": str(result[0][4]),\n",
    "            \"Hate\": str(result[0][5]),\n",
    "            \"Neutral\": str(result[0][6])\n",
    "        }\n"
   ]
  },
  {
   "cell_type": "code",
   "execution_count": 18,
   "id": "711f1438",
   "metadata": {},
   "outputs": [
    {
     "name": "stdout",
     "output_type": "stream",
     "text": [
      "1/1 [==============================] - 0s 288ms/step\n",
      "{'Toxic': '0.97209626', 'Very Toxic': '0.26571327', 'Obscene': '0.86963093', 'Threat': '0.09281194', 'Insult': '0.8476769', 'Hate': '0.8177401', 'Neutral': '0.009884447'}\n",
      "1/1 [==============================] - 0s 17ms/step\n",
      "{'Toxic': '0.95577526', 'Very Toxic': '0.23047814', 'Obscene': '0.7853679', 'Threat': '0.074641675', 'Insult': '0.787817', 'Hate': '0.7591281', 'Neutral': '0.017473727'}\n",
      "1/1 [==============================] - 0s 20ms/step\n",
      "{'Toxic': '0.19435263', 'Very Toxic': '0.013033569', 'Obscene': '0.048072398', 'Threat': '0.03651017', 'Insult': '0.07070133', 'Hate': '0.04401952', 'Neutral': '0.782662'}\n",
      "1/1 [==============================] - 0s 16ms/step\n",
      "{'Toxic': '0.033089995', 'Very Toxic': '0.005406618', 'Obscene': '0.008182436', 'Threat': '0.01166302', 'Insult': '0.018892437', 'Hate': '0.023555845', 'Neutral': '0.9665868'}\n"
     ]
    }
   ],
   "source": [
    "from data_cleaning import clean_text\n",
    "\n",
    "print(predict(\"DJ Robinson is gay as hell! he sucks his dick so much!!!!!\"))\n",
    "print(predict(\"Fuck off, you anti-semitic cunt.\"))\n",
    "print(predict(\"How dare you vandalize that page about the HMS Beagle! Don't vandalize again, demon!\"))\n",
    "print(predict(\"Khoros is awesome\"))"
   ]
  },
  {
   "cell_type": "code",
   "execution_count": 19,
   "id": "e310d5d5",
   "metadata": {},
   "outputs": [
    {
     "name": "stdout",
     "output_type": "stream",
     "text": [
      "2000/2000 [==============================] - 42s 21ms/step - loss: 0.1087 - auc: 0.9861\n"
     ]
    }
   ],
   "source": [
    "score = lstm.evaluate(X_te, y_test, verbose=1)"
   ]
  },
  {
   "cell_type": "code",
   "execution_count": 20,
   "id": "d961f5c9",
   "metadata": {},
   "outputs": [],
   "source": [
    "y_pred = lstm.predict(X_te)"
   ]
  },
  {
   "cell_type": "code",
   "execution_count": 21,
   "id": "323e734b",
   "metadata": {},
   "outputs": [
    {
     "data": {
      "text/plain": [
       "array([[0, 0, 0, ..., 0, 0, 1],\n",
       "       [1, 0, 0, ..., 0, 0, 0],\n",
       "       [0, 0, 0, ..., 0, 0, 1],\n",
       "       ...,\n",
       "       [1, 0, 0, ..., 1, 1, 0],\n",
       "       [1, 0, 1, ..., 1, 1, 0],\n",
       "       [0, 0, 0, ..., 0, 0, 1]])"
      ]
     },
     "execution_count": 21,
     "metadata": {},
     "output_type": "execute_result"
    }
   ],
   "source": [
    "ex = y_pred\n",
    "ex[:] = ex[:]>0.5\n",
    "ex = ex.astype(int)\n",
    "ex"
   ]
  },
  {
   "cell_type": "code",
   "execution_count": 22,
   "id": "7dd33363",
   "metadata": {},
   "outputs": [
    {
     "name": "stdout",
     "output_type": "stream",
     "text": [
      "              precision    recall  f1-score   support\n",
      "\n",
      "           0       0.50      0.89      0.64      6090\n",
      "           1       0.45      0.31      0.37       367\n",
      "           2       0.59      0.79      0.68      3691\n",
      "           3       0.16      0.50      0.24       211\n",
      "           4       0.51      0.71      0.59      3427\n",
      "           5       0.34      0.83      0.48       712\n",
      "           6       0.99      0.90      0.94     57735\n",
      "\n",
      "   micro avg       0.84      0.88      0.86     72233\n",
      "   macro avg       0.51      0.70      0.56     72233\n",
      "weighted avg       0.89      0.88      0.88     72233\n",
      " samples avg       0.88      0.88      0.88     72233\n",
      "\n"
     ]
    },
    {
     "name": "stderr",
     "output_type": "stream",
     "text": [
      "/opt/anaconda3/lib/python3.7/site-packages/sklearn/metrics/_classification.py:1245: UndefinedMetricWarning: Precision and F-score are ill-defined and being set to 0.0 in samples with no predicted labels. Use `zero_division` parameter to control this behavior.\n",
      "  _warn_prf(average, modifier, msg_start, len(result))\n"
     ]
    }
   ],
   "source": [
    "from sklearn.metrics import confusion_matrix, multilabel_confusion_matrix, classification_report, ConfusionMatrixDisplay\n",
    "cm = multilabel_confusion_matrix(y_test, ex)\n",
    "print(classification_report(y_test,ex))"
   ]
  },
  {
   "cell_type": "code",
   "execution_count": 23,
   "id": "729b6eba",
   "metadata": {},
   "outputs": [
    {
     "data": {
      "image/png": "[encoded data removed]",
      "text/plain": [
       "<Figure size 1800x1080 with 7 Axes>"
      ]
     },
     "metadata": {
      "needs_background": "light"
     },
     "output_type": "display_data"
    }
   ],
   "source": [
    "import matplotlib.pyplot as plt\n",
    "\n",
    "f, axes = plt.subplots(2, 3, figsize=(25, 15))\n",
    "axes = axes.ravel()\n",
    "for i in range(6):\n",
    "    disp = ConfusionMatrixDisplay(confusion_matrix(y_test[:, i],\n",
    "                                                   ex[:, i]),\n",
    "                                  display_labels=[0, i])\n",
    "    disp.plot(ax=axes[i], values_format='.0f')\n",
    "    disp.ax_.set_title(f'{DETECTION_CLASSES[i]}')\n",
    "    disp.ax_.set_xlabel('')\n",
    "    disp.ax_.set_ylabel('')\n",
    "    disp.im_.colorbar.remove()\n",
    "\n",
    "plt.subplots_adjust(wspace=0.10, hspace=0.1)\n",
    "f.colorbar(disp.im_, ax=axes)\n",
    "plt.show()"
   ]
  },
  {
   "cell_type": "code",
   "execution_count": 24,
   "id": "1eb5f28e",
   "metadata": {},
   "outputs": [],
   "source": [
    "from sklearn.metrics import roc_curve, auc\n",
    "\n",
    "n_classes = 7 # number of class\n",
    "\n",
    "# Compute ROC curve and ROC area for each class\n",
    "fpr = dict()\n",
    "tpr = dict()\n",
    "roc_auc = dict()\n",
    "for i in range(n_classes):\n",
    "    fpr[i], tpr[i], _ = roc_curve(y_test[:, i], ex[:, i])\n",
    "    roc_auc[i] = auc(fpr[i], tpr[i])\n",
    "\n",
    "# Compute micro-average ROC curve and ROC area\n",
    "fpr[\"micro\"], tpr[\"micro\"], _ = roc_curve(y_test.ravel(), ex.ravel())\n",
    "roc_auc[\"micro\"] = auc(fpr[\"micro\"], tpr[\"micro\"])"
   ]
  },
  {
   "cell_type": "code",
   "execution_count": 25,
   "id": "00dc4bb2",
   "metadata": {},
   "outputs": [
    {
     "data": {
      "text/plain": [
       "{0: 0.8970190015303886,\n",
       " 1: 0.6542286334467283,\n",
       " 2: 0.8768932317008685,\n",
       " 3: 0.7468487355142244,\n",
       " 4: 0.8375163680820308,\n",
       " 5: 0.9051265887529628,\n",
       " 6: 0.9019283286030679,\n",
       " 'micro': 0.9215663806042879}"
      ]
     },
     "execution_count": 25,
     "metadata": {},
     "output_type": "execute_result"
    }
   ],
   "source": [
    "roc_auc"
   ]
  },
  {
   "cell_type": "code",
   "execution_count": 26,
   "id": "ffb63c44",
   "metadata": {},
   "outputs": [
    {
     "data": {
      "image/png": "[encoded data removed]",
      "text/plain": [
       "<Figure size 576x432 with 1 Axes>"
      ]
     },
     "metadata": {
      "needs_background": "light"
     },
     "output_type": "display_data"
    }
   ],
   "source": [
    "fig = plt.figure(figsize=(8,6))\n",
    "colors = ['darkorange','red', 'black', 'yellow', 'blue', 'green']\n",
    "for i in range(6):\n",
    "    plt.plot(fpr[i], tpr[i], color=colors[i],\n",
    "            label=f'ROC curve -> {DETECTION_CLASSES[i]}, area=({round(roc_auc[i],2)})')\n",
    "    \n",
    "plt.plot([0,1], [0,1], color='orange', linestyle='--')\n",
    "\n",
    "plt.xticks(np.arange(0.0, 1.1, step=0.1))\n",
    "plt.xlabel(\"False Positive Rate\", fontsize=15)\n",
    "\n",
    "plt.yticks(np.arange(0.0, 1.1, step=0.1))\n",
    "plt.ylabel(\"True Positive Rate\", fontsize=15)\n",
    "\n",
    "plt.title('ROC Curve Analysis', fontweight='bold', fontsize=15)\n",
    "plt.legend(prop={'size':11}, loc='lower right')\n",
    "\n",
    "plt.show()"
   ]
  },
  {
   "cell_type": "code",
   "execution_count": null,
   "id": "f00b0b5c",
   "metadata": {},
   "outputs": [],
   "source": []
  }
 ],
 "metadata": {
  "kernelspec": {
   "display_name": "Python 3",
   "language": "python",
   "name": "python3"
  },
  "language_info": {
   "codemirror_mode": {
    "name": "ipython",
    "version": 3
   },
   "file_extension": ".py",
   "mimetype": "text/x-python",
   "name": "python",
   "nbconvert_exporter": "python",
   "pygments_lexer": "ipython3",
   "version": "3.7.9"
  }
 },
 "nbformat": 4,
 "nbformat_minor": 5
}

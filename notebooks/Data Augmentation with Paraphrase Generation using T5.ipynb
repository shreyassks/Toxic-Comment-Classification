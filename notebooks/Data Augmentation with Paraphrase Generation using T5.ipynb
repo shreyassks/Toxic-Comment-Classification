{
 "cells": [
  {
   "cell_type": "code",
   "execution_count": 1,
   "id": "e51b10b7",
   "metadata": {},
   "outputs": [],
   "source": [
    "import pandas as pd"
   ]
  },
  {
   "cell_type": "markdown",
   "id": "b4b83e77",
   "metadata": {},
   "source": [
    "### Original Training data has been filtered into Toxic/Non-Toxic Samples. Only Toxic Samples are being used for Paraphrase Generation using T5"
   ]
  },
  {
   "cell_type": "code",
   "execution_count": 2,
   "id": "dea031d7",
   "metadata": {},
   "outputs": [],
   "source": [
    "df2 = pd.read_csv(\"toxic_data.csv\")"
   ]
  },
  {
   "cell_type": "code",
   "execution_count": 3,
   "id": "ad35442f",
   "metadata": {},
   "outputs": [],
   "source": [
    "df2.drop(\"Unnamed: 0\", axis=1, inplace=True)"
   ]
  },
  {
   "cell_type": "code",
   "execution_count": 4,
   "id": "0e1b2bda",
   "metadata": {},
   "outputs": [
    {
     "data": {
      "text/html": [
       "<div>\n",
       "<style scoped>\n",
       "    .dataframe tbody tr th:only-of-type {\n",
       "        vertical-align: middle;\n",
       "    }\n",
       "\n",
       "    .dataframe tbody tr th {\n",
       "        vertical-align: top;\n",
       "    }\n",
       "\n",
       "    .dataframe thead th {\n",
       "        text-align: right;\n",
       "    }\n",
       "</style>\n",
       "<table border=\"1\" class=\"dataframe\">\n",
       "  <thead>\n",
       "    <tr style=\"text-align: right;\">\n",
       "      <th></th>\n",
       "      <th>text</th>\n",
       "      <th>toxic</th>\n",
       "      <th>severe_toxic</th>\n",
       "      <th>obscene</th>\n",
       "      <th>threat</th>\n",
       "      <th>insult</th>\n",
       "      <th>identity_hate</th>\n",
       "    </tr>\n",
       "  </thead>\n",
       "  <tbody>\n",
       "    <tr>\n",
       "      <th>0</th>\n",
       "      <td>cock suck before you piss around on my work</td>\n",
       "      <td>1</td>\n",
       "      <td>1</td>\n",
       "      <td>1</td>\n",
       "      <td>0</td>\n",
       "      <td>1</td>\n",
       "      <td>0</td>\n",
       "    </tr>\n",
       "    <tr>\n",
       "      <th>1</th>\n",
       "      <td>hey what is it talk what is it an exclusive gr...</td>\n",
       "      <td>1</td>\n",
       "      <td>0</td>\n",
       "      <td>0</td>\n",
       "      <td>0</td>\n",
       "      <td>0</td>\n",
       "      <td>0</td>\n",
       "    </tr>\n",
       "    <tr>\n",
       "      <th>2</th>\n",
       "      <td>bye don t look come or think of comming back t...</td>\n",
       "      <td>1</td>\n",
       "      <td>0</td>\n",
       "      <td>0</td>\n",
       "      <td>0</td>\n",
       "      <td>0</td>\n",
       "      <td>0</td>\n",
       "    </tr>\n",
       "    <tr>\n",
       "      <th>3</th>\n",
       "      <td>you are gay or antisemmitian archangel white t...</td>\n",
       "      <td>1</td>\n",
       "      <td>0</td>\n",
       "      <td>1</td>\n",
       "      <td>0</td>\n",
       "      <td>1</td>\n",
       "      <td>1</td>\n",
       "    </tr>\n",
       "    <tr>\n",
       "      <th>4</th>\n",
       "      <td>fuck your filthy mother in the ass dry</td>\n",
       "      <td>1</td>\n",
       "      <td>0</td>\n",
       "      <td>1</td>\n",
       "      <td>0</td>\n",
       "      <td>1</td>\n",
       "      <td>0</td>\n",
       "    </tr>\n",
       "  </tbody>\n",
       "</table>\n",
       "</div>"
      ],
      "text/plain": [
       "                                                text  toxic  severe_toxic  \\\n",
       "0        cock suck before you piss around on my work      1             1   \n",
       "1  hey what is it talk what is it an exclusive gr...      1             0   \n",
       "2  bye don t look come or think of comming back t...      1             0   \n",
       "3  you are gay or antisemmitian archangel white t...      1             0   \n",
       "4            fuck your filthy mother in the ass dry       1             0   \n",
       "\n",
       "   obscene  threat  insult  identity_hate  \n",
       "0        1       0       1              0  \n",
       "1        0       0       0              0  \n",
       "2        0       0       0              0  \n",
       "3        1       0       1              1  \n",
       "4        1       0       1              0  "
      ]
     },
     "execution_count": 4,
     "metadata": {},
     "output_type": "execute_result"
    }
   ],
   "source": [
    "df2.head()"
   ]
  },
  {
   "cell_type": "markdown",
   "id": "af68b111",
   "metadata": {},
   "source": [
    "### Google's T5 Pretrained Model is used for Paraphrase Generation"
   ]
  },
  {
   "cell_type": "code",
   "execution_count": 5,
   "id": "d19246d0",
   "metadata": {},
   "outputs": [],
   "source": [
    "from transformers import T5ForConditionalGeneration, T5Tokenizer\n",
    "\n",
    "tokenizer = T5Tokenizer.from_pretrained(\"hetpandya/t5-small-tapaco\")\n",
    "model = T5ForConditionalGeneration.from_pretrained(\"hetpandya/t5-small-tapaco\")"
   ]
  },
  {
   "cell_type": "code",
   "execution_count": 13,
   "id": "d2b484eb",
   "metadata": {},
   "outputs": [],
   "source": [
    "def get_paraphrases(sentence, prefix=\"paraphrase: \", n_predictions=4, top_k=120, max_length=200,device=\"cpu\"):\n",
    "        \n",
    "        text = prefix + sentence + \" </s>\"\n",
    "        encoding = tokenizer.encode_plus(text, padding=True, return_tensors=\"pt\")\n",
    "        input_ids, attention_masks = encoding[\"input_ids\"].to(device), encoding[\"attention_mask\"].to(device)\n",
    "\n",
    "        model_output = model.generate(\n",
    "            input_ids=input_ids,\n",
    "            attention_mask=attention_masks,\n",
    "            do_sample=True,\n",
    "            max_length=max_length,\n",
    "            top_k=top_k,\n",
    "            top_p=0.98,\n",
    "            early_stopping=True,\n",
    "            num_return_sequences=n_predictions,\n",
    "        )\n",
    "\n",
    "        outputs = []\n",
    "        for output in model_output:\n",
    "            generated_sent = tokenizer.decode(\n",
    "                output, skip_special_tokens=True, clean_up_tokenization_spaces=True\n",
    "            )\n",
    "            if (\n",
    "                generated_sent.lower() != sentence.lower()\n",
    "                and generated_sent not in outputs\n",
    "            ):\n",
    "                outputs.append(generated_sent)\n",
    "        return outputs"
   ]
  },
  {
   "cell_type": "markdown",
   "id": "660f1a71",
   "metadata": {},
   "source": [
    "### Severe Toxic, Threat and Identity Hate Categories are having less samples compared to other categories. Paraphrases are generated only for samples of these categories"
   ]
  },
  {
   "cell_type": "code",
   "execution_count": 7,
   "id": "a317c501",
   "metadata": {},
   "outputs": [],
   "source": [
    "# severe_toxic = df2.loc[(df2[\"severe_toxic\"]==1)][:100]\n",
    "# threat = df2.loc[(df2[\"threat\"]==1)]\n",
    "identity_hate = df2.loc[(df2[\"identity_hate\"]==1)][:200]"
   ]
  },
  {
   "cell_type": "code",
   "execution_count": 8,
   "id": "0e4b26dd",
   "metadata": {},
   "outputs": [
    {
     "data": {
      "text/html": [
       "<div>\n",
       "<style scoped>\n",
       "    .dataframe tbody tr th:only-of-type {\n",
       "        vertical-align: middle;\n",
       "    }\n",
       "\n",
       "    .dataframe tbody tr th {\n",
       "        vertical-align: top;\n",
       "    }\n",
       "\n",
       "    .dataframe thead th {\n",
       "        text-align: right;\n",
       "    }\n",
       "</style>\n",
       "<table border=\"1\" class=\"dataframe\">\n",
       "  <thead>\n",
       "    <tr style=\"text-align: right;\">\n",
       "      <th></th>\n",
       "      <th>text</th>\n",
       "      <th>toxic</th>\n",
       "      <th>severe_toxic</th>\n",
       "      <th>obscene</th>\n",
       "      <th>threat</th>\n",
       "      <th>insult</th>\n",
       "      <th>identity_hate</th>\n",
       "    </tr>\n",
       "  </thead>\n",
       "  <tbody>\n",
       "    <tr>\n",
       "      <th>3</th>\n",
       "      <td>you are gay or antisemmitian archangel white t...</td>\n",
       "      <td>1</td>\n",
       "      <td>0</td>\n",
       "      <td>1</td>\n",
       "      <td>0</td>\n",
       "      <td>1</td>\n",
       "      <td>1</td>\n",
       "    </tr>\n",
       "    <tr>\n",
       "      <th>14</th>\n",
       "      <td>a pair of jew hating weiner nazi schmucks</td>\n",
       "      <td>1</td>\n",
       "      <td>0</td>\n",
       "      <td>1</td>\n",
       "      <td>0</td>\n",
       "      <td>1</td>\n",
       "      <td>1</td>\n",
       "    </tr>\n",
       "    <tr>\n",
       "      <th>18</th>\n",
       "      <td>i think that your a fagget get a oife and burn...</td>\n",
       "      <td>1</td>\n",
       "      <td>0</td>\n",
       "      <td>1</td>\n",
       "      <td>1</td>\n",
       "      <td>1</td>\n",
       "      <td>1</td>\n",
       "    </tr>\n",
       "    <tr>\n",
       "      <th>24</th>\n",
       "      <td>kill all nigger s i have hard that others have...</td>\n",
       "      <td>1</td>\n",
       "      <td>0</td>\n",
       "      <td>1</td>\n",
       "      <td>0</td>\n",
       "      <td>1</td>\n",
       "      <td>1</td>\n",
       "    </tr>\n",
       "    <tr>\n",
       "      <th>26</th>\n",
       "      <td>u r a tw fuck off u gay boy u r smelly fuck ur...</td>\n",
       "      <td>1</td>\n",
       "      <td>0</td>\n",
       "      <td>1</td>\n",
       "      <td>0</td>\n",
       "      <td>1</td>\n",
       "      <td>1</td>\n",
       "    </tr>\n",
       "    <tr>\n",
       "      <th>...</th>\n",
       "      <td>...</td>\n",
       "      <td>...</td>\n",
       "      <td>...</td>\n",
       "      <td>...</td>\n",
       "      <td>...</td>\n",
       "      <td>...</td>\n",
       "      <td>...</td>\n",
       "    </tr>\n",
       "    <tr>\n",
       "      <th>2246</th>\n",
       "      <td>bahamut is gay it s true you little bitch</td>\n",
       "      <td>1</td>\n",
       "      <td>0</td>\n",
       "      <td>1</td>\n",
       "      <td>0</td>\n",
       "      <td>1</td>\n",
       "      <td>1</td>\n",
       "    </tr>\n",
       "    <tr>\n",
       "      <th>2265</th>\n",
       "      <td>i am a fucking retard ed nigger</td>\n",
       "      <td>1</td>\n",
       "      <td>0</td>\n",
       "      <td>1</td>\n",
       "      <td>0</td>\n",
       "      <td>1</td>\n",
       "      <td>1</td>\n",
       "    </tr>\n",
       "    <tr>\n",
       "      <th>2267</th>\n",
       "      <td>get a life you animal fucker shut up you fucki...</td>\n",
       "      <td>1</td>\n",
       "      <td>1</td>\n",
       "      <td>1</td>\n",
       "      <td>0</td>\n",
       "      <td>1</td>\n",
       "      <td>1</td>\n",
       "    </tr>\n",
       "    <tr>\n",
       "      <th>2277</th>\n",
       "      <td>fuck you you fucking nigger bag of shit i hope...</td>\n",
       "      <td>1</td>\n",
       "      <td>1</td>\n",
       "      <td>1</td>\n",
       "      <td>1</td>\n",
       "      <td>1</td>\n",
       "      <td>1</td>\n",
       "    </tr>\n",
       "    <tr>\n",
       "      <th>2290</th>\n",
       "      <td>resuu u are all nigger s lt</td>\n",
       "      <td>1</td>\n",
       "      <td>0</td>\n",
       "      <td>0</td>\n",
       "      <td>0</td>\n",
       "      <td>0</td>\n",
       "      <td>1</td>\n",
       "    </tr>\n",
       "  </tbody>\n",
       "</table>\n",
       "<p>200 rows × 7 columns</p>\n",
       "</div>"
      ],
      "text/plain": [
       "                                                   text  toxic  severe_toxic  \\\n",
       "3     you are gay or antisemmitian archangel white t...      1             0   \n",
       "14           a pair of jew hating weiner nazi schmucks       1             0   \n",
       "18    i think that your a fagget get a oife and burn...      1             0   \n",
       "24    kill all nigger s i have hard that others have...      1             0   \n",
       "26    u r a tw fuck off u gay boy u r smelly fuck ur...      1             0   \n",
       "...                                                 ...    ...           ...   \n",
       "2246         bahamut is gay it s true you little bitch       1             0   \n",
       "2265                   i am a fucking retard ed nigger       1             0   \n",
       "2267  get a life you animal fucker shut up you fucki...      1             1   \n",
       "2277  fuck you you fucking nigger bag of shit i hope...      1             1   \n",
       "2290                        resuu u are all nigger s lt      1             0   \n",
       "\n",
       "      obscene  threat  insult  identity_hate  \n",
       "3           1       0       1              1  \n",
       "14          1       0       1              1  \n",
       "18          1       1       1              1  \n",
       "24          1       0       1              1  \n",
       "26          1       0       1              1  \n",
       "...       ...     ...     ...            ...  \n",
       "2246        1       0       1              1  \n",
       "2265        1       0       1              1  \n",
       "2267        1       0       1              1  \n",
       "2277        1       1       1              1  \n",
       "2290        0       0       0              1  \n",
       "\n",
       "[200 rows x 7 columns]"
      ]
     },
     "execution_count": 8,
     "metadata": {},
     "output_type": "execute_result"
    }
   ],
   "source": [
    "identity_hate"
   ]
  },
  {
   "cell_type": "code",
   "execution_count": 9,
   "id": "272fe1ce",
   "metadata": {},
   "outputs": [],
   "source": [
    "identity_hate.reset_index(inplace=True)"
   ]
  },
  {
   "cell_type": "code",
   "execution_count": 10,
   "id": "844800ae",
   "metadata": {},
   "outputs": [],
   "source": [
    "identity_hate.drop(\"index\", axis=1, inplace=True)"
   ]
  },
  {
   "cell_type": "markdown",
   "id": "959e617f",
   "metadata": {},
   "source": [
    "### For every sample, 4 paraphrases are generated and are appended to the dataframe"
   ]
  },
  {
   "cell_type": "code",
   "execution_count": 11,
   "id": "bd7e5bf7",
   "metadata": {},
   "outputs": [],
   "source": [
    "def augment(df, paraphrases, n):\n",
    "    for j, sent in enumerate(paraphrases):\n",
    "        num = n + j\n",
    "        df.at[num, 'text'] = sent\n",
    "        df.at[num, feat] = cols\n",
    "    return df"
   ]
  },
  {
   "cell_type": "code",
   "execution_count": null,
   "id": "bf7da40d",
   "metadata": {},
   "outputs": [
    {
     "name": "stderr",
     "output_type": "stream",
     "text": [
      "Token indices sequence length is longer than the specified maximum sequence length for this model (3215 > 512). Running this sequence through the model will result in indexing errors\n"
     ]
    }
   ],
   "source": [
    "df_feature = identity_hate\n",
    "feat = identity_hate.columns.to_list()[1:]\n",
    "\n",
    "for i in range(len(df_feature)):\n",
    "    sentence = df_feature.loc[i][\"text\"]\n",
    "    cols = df_feature.loc[i][feat]\n",
    "    paraphrases = get_paraphrases(sentence)\n",
    "    u_len = len(identity_hate)\n",
    "    out = augment(identity_hate, paraphrases, u_len)"
   ]
  },
  {
   "cell_type": "markdown",
   "id": "56e083aa",
   "metadata": {},
   "source": [
    "### Original and augmented samples are finally saved into a csv file for further processing"
   ]
  },
  {
   "cell_type": "code",
   "execution_count": null,
   "id": "c4767235",
   "metadata": {},
   "outputs": [],
   "source": [
    "out.to_csv(\"identity_hate_generated.csv\")"
   ]
  },
  {
   "cell_type": "code",
   "execution_count": null,
   "id": "458d0406",
   "metadata": {},
   "outputs": [],
   "source": []
  }
 ],
 "metadata": {
  "kernelspec": {
   "display_name": "conda_pytorch_latest_p36",
   "language": "python",
   "name": "conda_pytorch_latest_p36"
  },
  "language_info": {
   "codemirror_mode": {
    "name": "ipython",
    "version": 3
   },
   "file_extension": ".py",
   "mimetype": "text/x-python",
   "name": "python",
   "nbconvert_exporter": "python",
   "pygments_lexer": "ipython3",
   "version": "3.6.13"
  }
 },
 "nbformat": 4,
 "nbformat_minor": 5
}
